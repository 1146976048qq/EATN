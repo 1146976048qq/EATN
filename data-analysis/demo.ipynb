{
 "cells": [
  {
   "cell_type": "code",
   "execution_count": 1,
   "metadata": {},
   "outputs": [],
   "source": [
    "\n",
    "import pandas as pd\n",
    "import csv\n",
    "import numpy as np\n",
    "import gensim\n",
    "\n",
    "#twitter = open('/Users/kaizhang/Desktop/data-analysis/twitter.txt')\n",
    "#twitter.close()\n",
    "\n",
    "# line = file.readlines()\n",
    "# while line:\n",
    "#     for i in range(1000):\n",
    "#         if i%3==0:\n",
    "#             print(line)\n",
    "#             line = file.readline()\n",
    "#\n",
    "# twitter.close()\n",
    "\n",
    "# lines = file.readlines()\n",
    "# i = 2\n",
    "# array = []\n",
    "# for line in lines:\n",
    "#     if (i+1) % 3 == 0:\n",
    "#          print(\"################\", line)\n",
    "#     print(\"**************\", line)\n",
    "#\n",
    "#     i = i+2\n",
    "#\n",
    "# twitter.close()\n",
    "\n",
    "\n",
    "#restaurant = open('/Users/kaizhang/Desktop/data-analysis/restaurant.txt')\n",
    "#lines = restaurant.readlines()\n",
    "#for line in lines:\n",
    "#    print(line)\n",
    "#restaurant.close()\n",
    "\n",
    "\n"
   ]
  },
  {
   "cell_type": "code",
   "execution_count": 4,
   "metadata": {},
   "outputs": [
    {
     "name": "stdout",
     "output_type": "stream",
     "text": [
      "2951\n",
      "battery life\n",
      "\n"
     ]
    }
   ],
   "source": [
    "laptop = open('/Users/kaizhang/Desktop/data-analysis/laptop.txt')\n",
    "lines = laptop.readlines()\n",
    "lap_array = []\n",
    "lap_emb = []\n",
    "for line in lines:\n",
    "    #print(line)\n",
    "    lap_array.append(line)\n",
    "\n",
    "#print(lap_array)\n",
    "print(len(lap_array))\n",
    "print(lap_array[1])\n",
    "\n",
    "laptop.close()"
   ]
  },
  {
   "cell_type": "code",
   "execution_count": 23,
   "metadata": {},
   "outputs": [],
   "source": [
    "\n",
    "# 用gensim打开glove词向量需要在向量的开头增加一行：所有的单词数 词向量的维度\n",
    "import gensim\n",
    "import os\n",
    "import shutil\n",
    "import hashlib\n",
    "from sys import platform\n",
    "#计算行数，就是单词数\n",
    "def getFileLineNums(filename):\n",
    "\tf = open(filename, 'r')\n",
    "\tcount = 0\n",
    "\tfor line in f:\n",
    "\t\tcount += 1\n",
    "\treturn count\n",
    " \n",
    "#Linux或者Windows下打开词向量文件，在开始增加一行\n",
    "def prepend_line(infile, outfile, line):\n",
    "\twith open(infile, 'r') as old:\n",
    "\t\twith open(outfile, 'w') as new:\n",
    "\t\t\tnew.write(str(line) + \"\\n\")\n",
    "\t\t\tshutil.copyfileobj(old, new)\n",
    " \n",
    "def prepend_slow(infile, outfile, line):\n",
    "\twith open(infile, 'r') as fin:\n",
    "\t\twith open(outfile, 'w') as fout:\n",
    "\t\t\tfout.write(line + \"\\n\")\n",
    "\t\t\tfor line in fin:\n",
    "\t\t\t\tfout.write(line)\n",
    " \n",
    "def load(filename):\n",
    "\tnum_lines = getFileLineNums(filename)\n",
    "\tgensim_file = 'glove_model.txt'\n",
    "\tgensim_first_line = \"{} {}\".format(num_lines, 300)\n",
    "\t# Prepends the line.\n",
    "\tif platform == \"linux\" or platform == \"linux2\":\n",
    "\t\tprepend_line(filename, gensim_file, gensim_first_line)\n",
    "\telse:\n",
    "\t\tprepend_slow(filename, gensim_file, gensim_first_line)\n",
    "\t\n",
    "\tmodel = gensim.models.KeyedVectors.load_word2vec_format(gensim_file)\n",
    " \n",
    "load('/Users/kaizhang/Desktop/data-analysis/glove.840B.300d.txt')\n",
    "\n",
    "\n",
    "#### 生成的glove_model.txt就是可以直接用gensim打开的模型\n"
   ]
  },
  {
   "cell_type": "code",
   "execution_count": 25,
   "metadata": {},
   "outputs": [
    {
     "name": "stderr",
     "output_type": "stream",
     "text": [
      "/Users/kaizhang/anaconda3/lib/python3.7/site-packages/smart_open/smart_open_lib.py:398: UserWarning: This function is deprecated, use smart_open.open instead. See the migration notes for details: https://github.com/RaRe-Technologies/smart_open/blob/master/README.rst#migrating-to-the-new-open-function\n",
      "  'See the migration notes for details: %s' % _MIGRATION_NOTES_URL\n"
     ]
    },
    {
     "name": "stdout",
     "output_type": "stream",
     "text": [
      "[('zealand', 0.8576889038085938), ('australian', 0.8263671398162842), ('canada', 0.8149206042289734), ('sydney', 0.8042809367179871), ('uk', 0.7899944186210632), ('nz', 0.785574197769165), ('melbourne', 0.7819625735282898), ('perth', 0.7619590759277344), ('brisbane', 0.7557578086853027), ('queensland', 0.7466003894805908)]\n",
      "0.7401744530010085\n"
     ]
    }
   ],
   "source": [
    "# Demo: Loads the newly created glove_model.txt into gensim API.\n",
    "model = gensim.models.KeyedVectors.load_word2vec_format(gensim_file, binary=False)  # GloVe Model\n",
    "\n",
    "print(model.most_similar(positive=['australia'], topn=10))\n",
    "print(model.similarity('woman', 'man'))"
   ]
  },
  {
   "cell_type": "code",
   "execution_count": 26,
   "metadata": {},
   "outputs": [
    {
     "name": "stdout",
     "output_type": "stream",
     "text": [
      "0.7045700672531547\n"
     ]
    }
   ],
   "source": [
    "print(model.similarity('man', 'boy'))"
   ]
  },
  {
   "cell_type": "code",
   "execution_count": 31,
   "metadata": {},
   "outputs": [
    {
     "name": "stdout",
     "output_type": "stream",
     "text": [
      "2\n"
     ]
    }
   ],
   "source": [
    "print(len(model['battery', 'life']))"
   ]
  },
  {
   "cell_type": "code",
   "execution_count": 64,
   "metadata": {},
   "outputs": [
    {
     "name": "stdout",
     "output_type": "stream",
     "text": [
      "['cord\\n', 'battery life\\n', 'service center\\n', 'sales team\\n', 'tech guy\\n', 'quality\\n', 'gui\\n', 'applications\\n', 'use\\n', 'start up\\n']\n",
      "cord\n",
      "\n"
     ]
    }
   ],
   "source": [
    "print(lap_array[0:10])\n",
    "a = lap_array[0]\n",
    "a.replace('\\n', '')\n",
    "print(a)"
   ]
  },
  {
   "cell_type": "code",
   "execution_count": null,
   "metadata": {},
   "outputs": [],
   "source": [
    "\n",
    "\n",
    "\n",
    "line = open(\"/Users/kaizhang/Desktop/data-analysis/line1.txt\").read()\n",
    "line = line.replace('\\n', '')\n",
    "print(line)\n",
    "model[line]"
   ]
  },
  {
   "cell_type": "code",
   "execution_count": 102,
   "metadata": {},
   "outputs": [
    {
     "name": "stdout",
     "output_type": "stream",
     "text": [
      "<class 'list'>\n",
      "[-7.2437e-02  5.2401e-01  3.5111e-01  3.2097e-01 -1.9749e-01 -9.1235e-01\n",
      "  2.0467e-01 -4.8160e-01  2.7943e-01  1.4458e-01 -8.2946e-02  6.9116e-02\n",
      "  5.2749e-01 -4.9453e-02 -2.0828e-01 -4.8636e-01  7.2404e-02  2.5430e+00\n",
      " -1.9694e-02 -9.7029e-02 -1.1423e-01  5.0422e-01 -2.8409e-01  4.0137e-01\n",
      "  3.0786e-01  3.2816e-01 -6.0889e-01  6.7467e-02  2.7519e-01  2.4490e-01\n",
      " -6.2334e-01 -1.4049e-01 -2.1231e-01  1.6848e-01  2.0838e-01  3.7079e-01\n",
      "  1.3389e-01  2.9489e-01  3.7345e-02 -1.6948e-01  4.3300e-01  1.0273e+00\n",
      " -3.3081e-01 -1.1860e-01  4.1692e-01  5.5401e-02 -2.3854e-01 -2.0068e-01\n",
      "  3.9921e-01 -1.9142e-01 -8.3546e-02  4.0776e-01  3.3875e-01 -4.2814e-01\n",
      " -1.1805e-01  2.7332e-01  9.1311e-01 -1.0658e-01  7.1262e-02  1.3707e-01\n",
      " -6.5876e-02 -1.4988e-01  4.0024e-01  2.1895e-01  7.8083e-02 -7.6022e-01\n",
      "  6.3606e-01 -5.2030e-01  1.1653e-01  5.8199e-01 -2.9421e-02  4.3053e-01\n",
      "  6.8504e-02  5.3422e-01 -2.0939e-01 -5.0511e-01  4.2360e-02  2.1894e-01\n",
      " -5.3617e-01 -6.2244e-01  3.4796e-01  5.0982e-01 -3.1934e-01  8.8525e-02\n",
      " -3.5995e-01 -3.2005e-01  6.2676e-01  8.1513e-01  1.3643e+00  3.6925e-01\n",
      "  1.9144e-01  2.9231e-01 -4.6294e-01  1.3470e-01  2.0014e-02 -2.2147e-01\n",
      "  3.8350e-02 -9.9218e-02  1.1034e-01 -3.9679e-01 -6.7467e-01  2.2970e-01\n",
      "  9.9676e-02 -6.6238e-01 -1.5051e-01 -1.5216e+00 -1.0405e+00  4.3775e-01\n",
      " -3.3239e-01  1.3226e-01  4.4014e-01  4.9533e-01  5.6604e-01 -2.0812e-01\n",
      "  6.6122e-01  5.5203e-01 -8.5226e-02 -1.9174e-01 -3.2410e-02  6.8890e-01\n",
      " -5.7635e-01 -3.3952e-01  5.9203e-01 -1.9866e-01 -1.0203e-01 -3.7482e-01\n",
      " -2.6575e-01 -2.0874e-01  5.4954e-01  4.2648e-01  3.1732e-01  3.0801e-01\n",
      " -6.8818e-01  7.1053e-01  4.4952e-01  1.4597e-01  7.7382e-01 -1.1932e-01\n",
      " -2.6818e-01  2.3700e-01 -1.0916e+00  4.4850e-01 -3.3134e-01  1.3512e-01\n",
      " -2.3912e-01  2.4100e-01 -6.9413e-04 -1.7011e-01 -4.6615e-01  4.3547e-02\n",
      " -6.1365e-01 -6.3443e-02  2.8507e-01  1.7259e-02  1.2950e-01 -2.6849e-01\n",
      " -6.9330e-01  2.9317e-01 -7.6176e-01  2.8951e-01 -1.4943e-01  1.0810e-01\n",
      "  1.7961e-01 -3.0502e-01  7.6001e-02 -6.6743e-01 -1.8460e-01  9.3559e-01\n",
      " -3.4382e-01  5.5960e-02 -3.9563e-01 -5.9165e-02 -5.1268e-02 -1.3148e-02\n",
      " -1.1013e-01 -1.0536e-01  1.6266e-01 -1.1617e-02  1.9858e-01  4.5790e-02\n",
      " -2.6840e-01  2.6231e-01  1.1865e-01 -9.7572e-02  3.7784e-01 -2.1401e-01\n",
      "  4.3640e-02 -7.1466e-01 -3.7912e-01  2.2692e-01 -4.9167e-01 -3.3144e-01\n",
      "  2.0506e-02  3.7589e-01 -6.5959e-01  5.8639e-02  4.6408e-01 -8.4239e-01\n",
      " -5.1572e-01 -5.0528e-01 -2.7918e-01  4.0592e-01 -3.3405e-01  3.4251e-01\n",
      "  1.1606e-01  5.2884e-01  1.0269e-01 -1.4355e-01 -2.2358e-01 -2.6012e-01\n",
      " -8.8302e-02  6.7328e-02  1.1796e-01 -1.1559e-01  6.7123e-01  4.3923e-02\n",
      " -1.1431e-01  6.1504e-01  8.5212e-02 -4.3898e-01 -6.7586e-01 -9.7921e-02\n",
      " -5.1912e-01 -5.7403e-01 -4.4086e-01 -6.0026e-02  2.2277e-01 -8.1785e-01\n",
      "  1.8835e-02  7.3915e-01 -4.8279e-01 -3.1500e-01  3.5739e-01  4.9973e-01\n",
      " -2.9539e-01  7.4310e-02  1.6604e-01  3.4014e-01  8.8427e-02  6.9011e-02\n",
      "  2.0307e-01  3.5272e-03  1.5673e-01 -1.6025e-01  5.4053e-01 -3.5552e-02\n",
      " -4.3067e-01 -3.6522e-01 -3.3691e-01  4.9757e-01 -9.4512e-02  3.4328e-01\n",
      "  1.5772e-01  6.9726e-01  1.8428e-01 -4.1511e-02 -3.6294e-01 -1.8232e-01\n",
      "  9.3403e-01  1.4069e-01 -2.0714e-01 -1.3112e-01  1.1869e-02  1.8444e-01\n",
      " -2.5000e-02  6.3032e-01  2.4114e-01  1.1284e-01 -3.1760e-01  1.3944e-01\n",
      "  7.1699e-01  4.0018e-01 -5.0074e-01  5.1653e-01 -4.1305e-01  1.9191e-02\n",
      " -1.5487e-02  1.1174e-01 -3.1467e-01 -6.1344e-01 -2.0649e-01 -3.3491e-01\n",
      "  2.1934e-01  5.2653e-01  1.1912e-01  1.5148e-01 -3.8237e-03 -6.0458e-02\n",
      "  5.2812e-01  7.3231e-02 -1.3973e-01 -1.8328e-01 -2.9649e-01 -4.0560e-01\n",
      " -1.7313e-01  1.3652e-01  1.7686e-02  5.1169e-01 -1.4524e-01  1.0145e-01]\n"
     ]
    },
    {
     "ename": "KeyError",
     "evalue": "\"word 'battery life' not in vocabulary\"",
     "output_type": "error",
     "traceback": [
      "\u001b[0;31m---------------------------------------------------------------------------\u001b[0m",
      "\u001b[0;31mKeyError\u001b[0m                                  Traceback (most recent call last)",
      "\u001b[0;32m<ipython-input-102-58c5754d2343>\u001b[0m in \u001b[0;36m<module>\u001b[0;34m\u001b[0m\n\u001b[1;32m      5\u001b[0m     \u001b[0mline\u001b[0m \u001b[0;34m=\u001b[0m \u001b[0;34m''\u001b[0m\u001b[0;34m.\u001b[0m\u001b[0mjoin\u001b[0m\u001b[0;34m(\u001b[0m\u001b[0mline\u001b[0m\u001b[0;34m)\u001b[0m\u001b[0;34m\u001b[0m\u001b[0;34m\u001b[0m\u001b[0m\n\u001b[1;32m      6\u001b[0m     \u001b[0mline\u001b[0m \u001b[0;34m=\u001b[0m \u001b[0mline\u001b[0m\u001b[0;34m.\u001b[0m\u001b[0mreplace\u001b[0m\u001b[0;34m(\u001b[0m\u001b[0;34m'\\n'\u001b[0m\u001b[0;34m,\u001b[0m \u001b[0;34m''\u001b[0m\u001b[0;34m)\u001b[0m\u001b[0;34m\u001b[0m\u001b[0;34m\u001b[0m\u001b[0m\n\u001b[0;32m----> 7\u001b[0;31m     \u001b[0mprint\u001b[0m\u001b[0;34m(\u001b[0m\u001b[0mmodel\u001b[0m\u001b[0;34m[\u001b[0m\u001b[0mline\u001b[0m\u001b[0;34m]\u001b[0m\u001b[0;34m)\u001b[0m\u001b[0;34m\u001b[0m\u001b[0;34m\u001b[0m\u001b[0m\n\u001b[0m",
      "\u001b[0;32m~/anaconda3/lib/python3.7/site-packages/gensim/models/keyedvectors.py\u001b[0m in \u001b[0;36m__getitem__\u001b[0;34m(self, entities)\u001b[0m\n\u001b[1;32m    167\u001b[0m         \u001b[0;32mif\u001b[0m \u001b[0misinstance\u001b[0m\u001b[0;34m(\u001b[0m\u001b[0mentities\u001b[0m\u001b[0;34m,\u001b[0m \u001b[0mstring_types\u001b[0m\u001b[0;34m)\u001b[0m\u001b[0;34m:\u001b[0m\u001b[0;34m\u001b[0m\u001b[0;34m\u001b[0m\u001b[0m\n\u001b[1;32m    168\u001b[0m             \u001b[0;31m# allow calls like trained_model['office'], as a shorthand for trained_model[['office']]\u001b[0m\u001b[0;34m\u001b[0m\u001b[0;34m\u001b[0m\u001b[0;34m\u001b[0m\u001b[0m\n\u001b[0;32m--> 169\u001b[0;31m             \u001b[0;32mreturn\u001b[0m \u001b[0mself\u001b[0m\u001b[0;34m.\u001b[0m\u001b[0mget_vector\u001b[0m\u001b[0;34m(\u001b[0m\u001b[0mentities\u001b[0m\u001b[0;34m)\u001b[0m\u001b[0;34m\u001b[0m\u001b[0;34m\u001b[0m\u001b[0m\n\u001b[0m\u001b[1;32m    170\u001b[0m \u001b[0;34m\u001b[0m\u001b[0m\n\u001b[1;32m    171\u001b[0m         \u001b[0;32mreturn\u001b[0m \u001b[0mvstack\u001b[0m\u001b[0;34m(\u001b[0m\u001b[0;34m[\u001b[0m\u001b[0mself\u001b[0m\u001b[0;34m.\u001b[0m\u001b[0mget_vector\u001b[0m\u001b[0;34m(\u001b[0m\u001b[0mentity\u001b[0m\u001b[0;34m)\u001b[0m \u001b[0;32mfor\u001b[0m \u001b[0mentity\u001b[0m \u001b[0;32min\u001b[0m \u001b[0mentities\u001b[0m\u001b[0;34m]\u001b[0m\u001b[0;34m)\u001b[0m\u001b[0;34m\u001b[0m\u001b[0;34m\u001b[0m\u001b[0m\n",
      "\u001b[0;32m~/anaconda3/lib/python3.7/site-packages/gensim/models/keyedvectors.py\u001b[0m in \u001b[0;36mget_vector\u001b[0;34m(self, word)\u001b[0m\n\u001b[1;32m    275\u001b[0m \u001b[0;34m\u001b[0m\u001b[0m\n\u001b[1;32m    276\u001b[0m     \u001b[0;32mdef\u001b[0m \u001b[0mget_vector\u001b[0m\u001b[0;34m(\u001b[0m\u001b[0mself\u001b[0m\u001b[0;34m,\u001b[0m \u001b[0mword\u001b[0m\u001b[0;34m)\u001b[0m\u001b[0;34m:\u001b[0m\u001b[0;34m\u001b[0m\u001b[0;34m\u001b[0m\u001b[0m\n\u001b[0;32m--> 277\u001b[0;31m         \u001b[0;32mreturn\u001b[0m \u001b[0mself\u001b[0m\u001b[0;34m.\u001b[0m\u001b[0mword_vec\u001b[0m\u001b[0;34m(\u001b[0m\u001b[0mword\u001b[0m\u001b[0;34m)\u001b[0m\u001b[0;34m\u001b[0m\u001b[0;34m\u001b[0m\u001b[0m\n\u001b[0m\u001b[1;32m    278\u001b[0m \u001b[0;34m\u001b[0m\u001b[0m\n\u001b[1;32m    279\u001b[0m     \u001b[0;32mdef\u001b[0m \u001b[0mwords_closer_than\u001b[0m\u001b[0;34m(\u001b[0m\u001b[0mself\u001b[0m\u001b[0;34m,\u001b[0m \u001b[0mw1\u001b[0m\u001b[0;34m,\u001b[0m \u001b[0mw2\u001b[0m\u001b[0;34m)\u001b[0m\u001b[0;34m:\u001b[0m\u001b[0;34m\u001b[0m\u001b[0;34m\u001b[0m\u001b[0m\n",
      "\u001b[0;32m~/anaconda3/lib/python3.7/site-packages/gensim/models/keyedvectors.py\u001b[0m in \u001b[0;36mword_vec\u001b[0;34m(self, word, use_norm)\u001b[0m\n\u001b[1;32m    272\u001b[0m             \u001b[0;32mreturn\u001b[0m \u001b[0mresult\u001b[0m\u001b[0;34m\u001b[0m\u001b[0;34m\u001b[0m\u001b[0m\n\u001b[1;32m    273\u001b[0m         \u001b[0;32melse\u001b[0m\u001b[0;34m:\u001b[0m\u001b[0;34m\u001b[0m\u001b[0;34m\u001b[0m\u001b[0m\n\u001b[0;32m--> 274\u001b[0;31m             \u001b[0;32mraise\u001b[0m \u001b[0mKeyError\u001b[0m\u001b[0;34m(\u001b[0m\u001b[0;34m\"word '%s' not in vocabulary\"\u001b[0m \u001b[0;34m%\u001b[0m \u001b[0mword\u001b[0m\u001b[0;34m)\u001b[0m\u001b[0;34m\u001b[0m\u001b[0;34m\u001b[0m\u001b[0m\n\u001b[0m\u001b[1;32m    275\u001b[0m \u001b[0;34m\u001b[0m\u001b[0m\n\u001b[1;32m    276\u001b[0m     \u001b[0;32mdef\u001b[0m \u001b[0mget_vector\u001b[0m\u001b[0;34m(\u001b[0m\u001b[0mself\u001b[0m\u001b[0;34m,\u001b[0m \u001b[0mword\u001b[0m\u001b[0;34m)\u001b[0m\u001b[0;34m:\u001b[0m\u001b[0;34m\u001b[0m\u001b[0;34m\u001b[0m\u001b[0m\n",
      "\u001b[0;31mKeyError\u001b[0m: \"word 'battery life' not in vocabulary\""
     ]
    }
   ],
   "source": [
    "laptop = open('/Users/kaizhang/Desktop/data-analysis/laptop.txt')\n",
    "lines = laptop.readlines()\n",
    "print(type(lines))\n",
    "for line in lines:\n",
    "    line = ''.join(line)\n",
    "    line = line.replace('\\n', '')\n",
    "    print(model[line])"
   ]
  },
  {
   "cell_type": "code",
   "execution_count": 120,
   "metadata": {},
   "outputs": [
    {
     "name": "stderr",
     "output_type": "stream",
     "text": [
      "IOPub data rate exceeded.\n",
      "The notebook server will temporarily stop sending output\n",
      "to the client in order to avoid crashing it.\n",
      "To change this limit, set the config variable\n",
      "`--NotebookApp.iopub_data_rate_limit`.\n",
      "\n",
      "Current values:\n",
      "NotebookApp.iopub_data_rate_limit=1000000.0 (bytes/sec)\n",
      "NotebookApp.rate_limit_window=3.0 (secs)\n",
      "\n"
     ]
    }
   ],
   "source": [
    "laptop = open('/Users/kaizhang/Desktop/data-analysis/laptop.txt')\n",
    "lines = laptop.readlines()\n",
    "list=[]\n",
    "list_emb=[]\n",
    "for i in range(0, lines.__len__(), 1):\n",
    "    \n",
    "    for word in lines[i].split():\n",
    "        #word=word.strip(string.whitespace)\n",
    "        #\n",
    "        list.append(word)\n",
    "\n",
    "        print(model)\n",
    "\n",
    "#model[list[2]]"
   ]
  },
  {
   "cell_type": "code",
   "execution_count": null,
   "metadata": {},
   "outputs": [],
   "source": []
  },
  {
   "cell_type": "code",
   "execution_count": null,
   "metadata": {},
   "outputs": [],
   "source": []
  }
 ],
 "metadata": {
  "kernelspec": {
   "display_name": "Python 3",
   "language": "python",
   "name": "python3"
  },
  "language_info": {
   "codemirror_mode": {
    "name": "ipython",
    "version": 3
   },
   "file_extension": ".py",
   "mimetype": "text/x-python",
   "name": "python",
   "nbconvert_exporter": "python",
   "pygments_lexer": "ipython3",
   "version": "3.7.1"
  }
 },
 "nbformat": 4,
 "nbformat_minor": 2
}
